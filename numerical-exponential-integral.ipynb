{
 "cells": [
  {
   "cell_type": "markdown",
   "metadata": {},
   "source": [
    "# Numerical Exponential Integral Analysis\n",
    "## John Aoga"
   ]
  },
  {
   "cell_type": "markdown",
   "metadata": {},
   "source": [
    "Dans cette session pratique, nous aborderons l'approximation de la fonction $Ei = -\\int^{\\infty}_{-x} \\frac{exp(-t)} {t}dt = \\int_{-\\infty}^{x} \\frac{exp(t)} {t}dt $.\n",
    "- Nous ferons nos tests de validité de nos résultats avec l'intégration effectuée dans le langage lui-même. La document par rapport aux méthodes numériques dans Python se trouve [ici](https://www.southampton.ac.uk/~fangohr/teaching/python/book/html/16-scipy.html#:~:text=Numerical%20integration&text=It%20takes%20as%20input%20arguments,numerical%20error%20of%20that%20result.).\n",
    "- La documentation par rapport à comment tracer les courbes avec python et matplotlib se trouve [ici](https://matplotlib.org/stable/tutorials/index.html).\n",
    "- Tout ce qu'il y a savoir sur le module math se trouve [ici](https://docs.python.org/3/library/math.html)"
   ]
  },
  {
   "cell_type": "markdown",
   "metadata": {},
   "source": [
    "## Parameters"
   ]
  },
  {
   "cell_type": "code",
   "execution_count": 257,
   "metadata": {},
   "outputs": [],
   "source": [
    "N = 100\n",
    "down = 0\n",
    "up = 3"
   ]
  },
  {
   "cell_type": "markdown",
   "metadata": {},
   "source": [
    "## Helpers"
   ]
  },
  {
   "cell_type": "code",
   "execution_count": 258,
   "metadata": {},
   "outputs": [],
   "source": [
    "from math import *\n",
    "#from numpy import *\n",
    "\n",
    "# methode des rectangles\n",
    "## gauche\n",
    "def left_rect(fun, a, b, n):\n",
    "    pas = ( b - a ) / n\n",
    "    s = sum(list(map(fun, ( a + pas * i for i in range(n)))))\n",
    "    return s * pas\n",
    "\n",
    "## droite\n",
    "def right_rect(fun, a, b, n):\n",
    "    pas = ( b - a ) / n\n",
    "    s = sum(list(map(fun, (a + pas * i for i in range(1, n+1)))))\n",
    "    return s * pas\n",
    "\n",
    "## milieu\n",
    "def mid_rect(fun, a, b, n):\n",
    "    pas = ( b - a ) / n\n",
    "    s = sum(list(map(fun, ( a + pas/2.0 + pas * i for i in range(n)))))\n",
    "    return s * pas\n",
    "\n",
    "# methode de trapeze\n",
    "def trapeze( fun, a, b, n ):\n",
    "    pas = ( b - a ) / n\n",
    "    s = 0.5 * (fun(a) + fun(b))\n",
    "    s += sum(list(map(fun, ( a + pas * i for i in range(1, n)))))\n",
    "    return s * pas\n",
    "\n",
    "# simpson\n",
    "def simpson2(fun, a, b, n):\n",
    "    n *= 2\n",
    "    pas  = ( b - a ) / n\n",
    "    s  = fun(a) + fun(b)\n",
    "    s += 2 * sum((1 + (i % 2)) * fun(a + i * pas) for i in range(1, n))\n",
    "    return s * pas / 3"
   ]
  },
  {
   "cell_type": "code",
   "execution_count": 259,
   "metadata": {},
   "outputs": [],
   "source": [
    "def compute_all(f, a, b, n):\n",
    "    print(\"python integration = \", quad(f, a, b))\n",
    "    print(\"rect gauche = \", left_rect(f, a, b, n))\n",
    "    print(\"rect droite = \", right_rect(f, a, b, n))\n",
    "    print(\"rect milieu = \", mid_rect(f, a, b, n))\n",
    "    print(\"trapeze = \", trapeze(f, a, b, n))\n",
    "    print(\"simpson = \", simpson2(f, a, b, n))"
   ]
  },
  {
   "cell_type": "markdown",
   "metadata": {},
   "source": [
    "### Testing helpers\n",
    "On testera avec intégrale de $\\int^3_0 x^2 dt = 9$"
   ]
  },
  {
   "cell_type": "code",
   "execution_count": 260,
   "metadata": {},
   "outputs": [
    {
     "name": "stdout",
     "output_type": "stream",
     "text": [
      "python integration =  (9.000000000000002, 9.992007221626411e-14)\n",
      "rect gauche =  7.694999999999999\n",
      "rect droite =  10.395\n",
      "rect milieu =  8.977499999999997\n",
      "trapeze =  9.045\n",
      "simpson =  9.0\n"
     ]
    },
    {
     "name": "stderr",
     "output_type": "stream",
     "text": [
      "<ipython-input-258-42e00e485341>:35: DeprecationWarning: Calling np.sum(generator) is deprecated, and in the future will give a different result. Use np.sum(np.fromiter(generator)) or the python sum builtin instead.\n",
      "  s += 2 * sum((1 + (i % 2)) * fun(a + i * pas) for i in range(1, n))\n"
     ]
    }
   ],
   "source": [
    "from scipy.integrate import quad\n",
    "def f_x(x):\n",
    "    return x*x\n",
    "\n",
    "compute_all(f_x, 0, 3, 10)"
   ]
  },
  {
   "cell_type": "markdown",
   "metadata": {},
   "source": [
    "## $Ei$ approximation\n",
    "\n",
    "En considérant des bornes a et b, une approximation théorique de $-\\int^{b}_{a} \\frac{\\exp(-t)}{t} dt$ est $\\ln |a|- \\ln |b| + \\sum^{\\infty}_{k=1} \\frac{1}{k\\times k!}\\times (a^k - b^k)$"
   ]
  },
  {
   "cell_type": "code",
   "execution_count": 261,
   "metadata": {},
   "outputs": [
    {
     "name": "stdout",
     "output_type": "stream",
     "text": [
      "python integration =  (9.155784026315892, 0.030109140432180936)\n",
      "rect gauche =  10.008083030345059\n",
      "rect droite =  8.628876161619507\n",
      "rect milieu =  25.563941692768882\n",
      "trapeze =  9.318479595982282\n",
      "simpson =  20.148787660506333\n",
      "ei approx =  -2.715549408311737e+41\n"
     ]
    },
    {
     "name": "stderr",
     "output_type": "stream",
     "text": [
      "<ipython-input-259-a870c74cd1bb>:2: IntegrationWarning: The integral is probably divergent, or slowly convergent.\n",
      "  print(\"python integration = \", quad(f, a, b))\n",
      "<ipython-input-258-42e00e485341>:35: DeprecationWarning: Calling np.sum(generator) is deprecated, and in the future will give a different result. Use np.sum(np.fromiter(generator)) or the python sum builtin instead.\n",
      "  s += 2 * sum((1 + (i % 2)) * fun(a + i * pas) for i in range(1, n))\n"
     ]
    }
   ],
   "source": [
    "def ei(x):\n",
    "    return -exp(-x)/x\n",
    "\n",
    "#  \n",
    "# \n",
    "def terme(a, b):\n",
    "    '''A cause de grandeur de factorielle, l'infini de la somme de l'approximation sera fixée à 150.\n",
    "    Dans d'autres langages il va falloir probablement adopter des valeurs encore plus petites.'''\n",
    "    return sum([(pow(a, k)-pow(b, k))/(k * factorial(k)) for k in range(1, 150)])\n",
    "\n",
    "def ei_approx(a, b):\n",
    "    return log(abs(a))-log(abs(b)) + terme(a, b)\n",
    "\n",
    "x = 3\n",
    "inf = 100\n",
    "compute_all(ei, -x, inf, 500)\n",
    "print(\"ei approx = \", ei_approx(-x, inf))"
   ]
  },
  {
   "cell_type": "markdown",
   "metadata": {},
   "source": [
    "## Analysis"
   ]
  },
  {
   "cell_type": "markdown",
   "metadata": {},
   "source": [
    "### Moving infinity\n",
    "\n",
    "Que se passe t'il quand on fait évoluer la valeur de infinie?"
   ]
  },
  {
   "cell_type": "code",
   "execution_count": 262,
   "metadata": {},
   "outputs": [
    {
     "name": "stderr",
     "output_type": "stream",
     "text": [
      "<ipython-input-262-50f1a096a701>:11: IntegrationWarning: The integral is probably divergent, or slowly convergent.\n",
      "  Y   = [quad(ei, a, i)[0] for i in X]\n",
      "<ipython-input-262-50f1a096a701>:11: IntegrationWarning: The maximum number of subdivisions (50) has been achieved.\n",
      "  If increasing the limit yields no improvement it is advised to analyze \n",
      "  the integrand in order to determine the difficulties.  If the position of a \n",
      "  local difficulty can be determined (singularity, discontinuity) one will \n",
      "  probably gain from splitting up the interval and calling the integrator \n",
      "  on the subranges.  Perhaps a special-purpose integrator should be used.\n",
      "  Y   = [quad(ei, a, i)[0] for i in X]\n",
      "<ipython-input-258-42e00e485341>:35: DeprecationWarning: Calling np.sum(generator) is deprecated, and in the future will give a different result. Use np.sum(np.fromiter(generator)) or the python sum builtin instead.\n",
      "  s += 2 * sum((1 + (i % 2)) * fun(a + i * pas) for i in range(1, n))\n"
     ]
    },
    {
     "data": {
      "image/png": "[encoded data removed]",
      "text/plain": [
       "<Figure size 432x288 with 1 Axes>"
      ]
     },
     "metadata": {
      "needs_background": "light"
     },
     "output_type": "display_data"
    }
   ],
   "source": [
    "import matplotlib.pyplot as plt\n",
    "\n",
    "def f_y(n):\n",
    "    return mid_rect(ei, -3, 10, n)\n",
    "\n",
    "a = -3\n",
    "b = 10\n",
    "n = 100\n",
    "\n",
    "X   = list(range(10, 201, 10))\n",
    "Y   = [quad(ei, a, i)[0] for i in X]\n",
    "Y_l = [left_rect(ei, a, i, n) for i in X]\n",
    "Y_m = [mid_rect(ei, a, i, n) for i in X]\n",
    "Y_r = [right_rect(ei, a, i, n) for i in X]\n",
    "Y_s = [simpson2(ei, a, i, n) for i in X]\n",
    "\n",
    "\n",
    "plt.plot(X, Y  , label='quad')\n",
    "plt.plot(X, Y_r, label='right')\n",
    "plt.plot(X, Y_m, label='mid')\n",
    "plt.plot(X, Y_l, label='left')\n",
    "plt.plot(X, Y_s, label='simpson2')\n",
    "\n",
    "plt.legend(loc=\"best\")\n",
    "plt.show()\n",
    "\n"
   ]
  },
  {
   "cell_type": "markdown",
   "metadata": {},
   "source": [
    "Il est claire qu'à travers l'analyse de cette courbe que les valeurs ne convergent pas quand on augmente la valeur de l'infinie à un $x$ fixe. Il est difficile de tirer une conclusion particulière de cette analyse."
   ]
  },
  {
   "cell_type": "markdown",
   "metadata": {},
   "source": [
    "### Moving the number of iterations\n",
    "\n",
    "Que se passe t'il quand on varie le nombre d'itération des méthodes d'évaluation de l'intégrale, est-ce qu'on se rapproche de la valeur calculée par le langage?"
   ]
  },
  {
   "cell_type": "code",
   "execution_count": 263,
   "metadata": {},
   "outputs": [
    {
     "ename": "ZeroDivisionError",
     "evalue": "float division by zero",
     "output_type": "error",
     "traceback": [
      "\u001b[0;31m---------------------------------------------------------------------------\u001b[0m",
      "\u001b[0;31mZeroDivisionError\u001b[0m                         Traceback (most recent call last)",
      "\u001b[0;32m<ipython-input-263-2a9909fafad8>\u001b[0m in \u001b[0;36m<module>\u001b[0;34m\u001b[0m\n\u001b[1;32m      9\u001b[0m \u001b[0mX\u001b[0m \u001b[0;34m=\u001b[0m \u001b[0mlist\u001b[0m\u001b[0;34m(\u001b[0m\u001b[0mrange\u001b[0m\u001b[0;34m(\u001b[0m\u001b[0;36m100\u001b[0m\u001b[0;34m,\u001b[0m \u001b[0;36m1000\u001b[0m\u001b[0;34m,\u001b[0m \u001b[0;36m10\u001b[0m\u001b[0;34m)\u001b[0m\u001b[0;34m)\u001b[0m\u001b[0;34m\u001b[0m\u001b[0;34m\u001b[0m\u001b[0m\n\u001b[1;32m     10\u001b[0m \u001b[0mY\u001b[0m \u001b[0;34m=\u001b[0m \u001b[0;34m[\u001b[0m\u001b[0mquad\u001b[0m\u001b[0;34m(\u001b[0m\u001b[0mei\u001b[0m\u001b[0;34m,\u001b[0m \u001b[0ma\u001b[0m\u001b[0;34m,\u001b[0m \u001b[0mb\u001b[0m\u001b[0;34m)\u001b[0m\u001b[0;34m[\u001b[0m\u001b[0;36m0\u001b[0m\u001b[0;34m]\u001b[0m \u001b[0;32mfor\u001b[0m \u001b[0mi\u001b[0m \u001b[0;32min\u001b[0m \u001b[0mX\u001b[0m\u001b[0;34m]\u001b[0m\u001b[0;34m\u001b[0m\u001b[0;34m\u001b[0m\u001b[0m\n\u001b[0;32m---> 11\u001b[0;31m \u001b[0mY_l\u001b[0m \u001b[0;34m=\u001b[0m \u001b[0;34m[\u001b[0m\u001b[0mleft_rect\u001b[0m\u001b[0;34m(\u001b[0m\u001b[0mei\u001b[0m\u001b[0;34m,\u001b[0m \u001b[0ma\u001b[0m\u001b[0;34m,\u001b[0m \u001b[0mb\u001b[0m\u001b[0;34m,\u001b[0m \u001b[0mi\u001b[0m\u001b[0;34m)\u001b[0m \u001b[0;32mfor\u001b[0m \u001b[0mi\u001b[0m \u001b[0;32min\u001b[0m \u001b[0mX\u001b[0m\u001b[0;34m]\u001b[0m\u001b[0;34m\u001b[0m\u001b[0;34m\u001b[0m\u001b[0m\n\u001b[0m\u001b[1;32m     12\u001b[0m \u001b[0mY_m\u001b[0m \u001b[0;34m=\u001b[0m \u001b[0;34m[\u001b[0m\u001b[0mmid_rect\u001b[0m\u001b[0;34m(\u001b[0m\u001b[0mei\u001b[0m\u001b[0;34m,\u001b[0m \u001b[0ma\u001b[0m\u001b[0;34m,\u001b[0m \u001b[0mb\u001b[0m\u001b[0;34m,\u001b[0m \u001b[0mi\u001b[0m\u001b[0;34m)\u001b[0m \u001b[0;32mfor\u001b[0m \u001b[0mi\u001b[0m \u001b[0;32min\u001b[0m \u001b[0mX\u001b[0m\u001b[0;34m]\u001b[0m\u001b[0;34m\u001b[0m\u001b[0;34m\u001b[0m\u001b[0m\n\u001b[1;32m     13\u001b[0m \u001b[0;31m#Y_r = [right_rect(ei, a, b, i) for i in X]\u001b[0m\u001b[0;34m\u001b[0m\u001b[0;34m\u001b[0m\u001b[0;34m\u001b[0m\u001b[0m\n",
      "\u001b[0;32m<ipython-input-263-2a9909fafad8>\u001b[0m in \u001b[0;36m<listcomp>\u001b[0;34m(.0)\u001b[0m\n\u001b[1;32m      9\u001b[0m \u001b[0mX\u001b[0m \u001b[0;34m=\u001b[0m \u001b[0mlist\u001b[0m\u001b[0;34m(\u001b[0m\u001b[0mrange\u001b[0m\u001b[0;34m(\u001b[0m\u001b[0;36m100\u001b[0m\u001b[0;34m,\u001b[0m \u001b[0;36m1000\u001b[0m\u001b[0;34m,\u001b[0m \u001b[0;36m10\u001b[0m\u001b[0;34m)\u001b[0m\u001b[0;34m)\u001b[0m\u001b[0;34m\u001b[0m\u001b[0;34m\u001b[0m\u001b[0m\n\u001b[1;32m     10\u001b[0m \u001b[0mY\u001b[0m \u001b[0;34m=\u001b[0m \u001b[0;34m[\u001b[0m\u001b[0mquad\u001b[0m\u001b[0;34m(\u001b[0m\u001b[0mei\u001b[0m\u001b[0;34m,\u001b[0m \u001b[0ma\u001b[0m\u001b[0;34m,\u001b[0m \u001b[0mb\u001b[0m\u001b[0;34m)\u001b[0m\u001b[0;34m[\u001b[0m\u001b[0;36m0\u001b[0m\u001b[0;34m]\u001b[0m \u001b[0;32mfor\u001b[0m \u001b[0mi\u001b[0m \u001b[0;32min\u001b[0m \u001b[0mX\u001b[0m\u001b[0;34m]\u001b[0m\u001b[0;34m\u001b[0m\u001b[0;34m\u001b[0m\u001b[0m\n\u001b[0;32m---> 11\u001b[0;31m \u001b[0mY_l\u001b[0m \u001b[0;34m=\u001b[0m \u001b[0;34m[\u001b[0m\u001b[0mleft_rect\u001b[0m\u001b[0;34m(\u001b[0m\u001b[0mei\u001b[0m\u001b[0;34m,\u001b[0m \u001b[0ma\u001b[0m\u001b[0;34m,\u001b[0m \u001b[0mb\u001b[0m\u001b[0;34m,\u001b[0m \u001b[0mi\u001b[0m\u001b[0;34m)\u001b[0m \u001b[0;32mfor\u001b[0m \u001b[0mi\u001b[0m \u001b[0;32min\u001b[0m \u001b[0mX\u001b[0m\u001b[0;34m]\u001b[0m\u001b[0;34m\u001b[0m\u001b[0;34m\u001b[0m\u001b[0m\n\u001b[0m\u001b[1;32m     12\u001b[0m \u001b[0mY_m\u001b[0m \u001b[0;34m=\u001b[0m \u001b[0;34m[\u001b[0m\u001b[0mmid_rect\u001b[0m\u001b[0;34m(\u001b[0m\u001b[0mei\u001b[0m\u001b[0;34m,\u001b[0m \u001b[0ma\u001b[0m\u001b[0;34m,\u001b[0m \u001b[0mb\u001b[0m\u001b[0;34m,\u001b[0m \u001b[0mi\u001b[0m\u001b[0;34m)\u001b[0m \u001b[0;32mfor\u001b[0m \u001b[0mi\u001b[0m \u001b[0;32min\u001b[0m \u001b[0mX\u001b[0m\u001b[0;34m]\u001b[0m\u001b[0;34m\u001b[0m\u001b[0;34m\u001b[0m\u001b[0m\n\u001b[1;32m     13\u001b[0m \u001b[0;31m#Y_r = [right_rect(ei, a, b, i) for i in X]\u001b[0m\u001b[0;34m\u001b[0m\u001b[0;34m\u001b[0m\u001b[0;34m\u001b[0m\u001b[0m\n",
      "\u001b[0;32m<ipython-input-258-42e00e485341>\u001b[0m in \u001b[0;36mleft_rect\u001b[0;34m(fun, a, b, n)\u001b[0m\n\u001b[1;32m      6\u001b[0m \u001b[0;32mdef\u001b[0m \u001b[0mleft_rect\u001b[0m\u001b[0;34m(\u001b[0m\u001b[0mfun\u001b[0m\u001b[0;34m,\u001b[0m \u001b[0ma\u001b[0m\u001b[0;34m,\u001b[0m \u001b[0mb\u001b[0m\u001b[0;34m,\u001b[0m \u001b[0mn\u001b[0m\u001b[0;34m)\u001b[0m\u001b[0;34m:\u001b[0m\u001b[0;34m\u001b[0m\u001b[0;34m\u001b[0m\u001b[0m\n\u001b[1;32m      7\u001b[0m     \u001b[0mpas\u001b[0m \u001b[0;34m=\u001b[0m \u001b[0;34m(\u001b[0m \u001b[0mb\u001b[0m \u001b[0;34m-\u001b[0m \u001b[0ma\u001b[0m \u001b[0;34m)\u001b[0m \u001b[0;34m/\u001b[0m \u001b[0mn\u001b[0m\u001b[0;34m\u001b[0m\u001b[0;34m\u001b[0m\u001b[0m\n\u001b[0;32m----> 8\u001b[0;31m     \u001b[0ms\u001b[0m \u001b[0;34m=\u001b[0m \u001b[0msum\u001b[0m\u001b[0;34m(\u001b[0m\u001b[0mlist\u001b[0m\u001b[0;34m(\u001b[0m\u001b[0mmap\u001b[0m\u001b[0;34m(\u001b[0m\u001b[0mfun\u001b[0m\u001b[0;34m,\u001b[0m \u001b[0;34m(\u001b[0m \u001b[0ma\u001b[0m \u001b[0;34m+\u001b[0m \u001b[0mpas\u001b[0m \u001b[0;34m*\u001b[0m \u001b[0mi\u001b[0m \u001b[0;32mfor\u001b[0m \u001b[0mi\u001b[0m \u001b[0;32min\u001b[0m \u001b[0mrange\u001b[0m\u001b[0;34m(\u001b[0m\u001b[0mn\u001b[0m\u001b[0;34m)\u001b[0m\u001b[0;34m)\u001b[0m\u001b[0;34m)\u001b[0m\u001b[0;34m)\u001b[0m\u001b[0;34m)\u001b[0m\u001b[0;34m\u001b[0m\u001b[0;34m\u001b[0m\u001b[0m\n\u001b[0m\u001b[1;32m      9\u001b[0m     \u001b[0;32mreturn\u001b[0m \u001b[0ms\u001b[0m \u001b[0;34m*\u001b[0m \u001b[0mpas\u001b[0m\u001b[0;34m\u001b[0m\u001b[0;34m\u001b[0m\u001b[0m\n\u001b[1;32m     10\u001b[0m \u001b[0;34m\u001b[0m\u001b[0m\n",
      "\u001b[0;32m<ipython-input-261-a6d17af1d807>\u001b[0m in \u001b[0;36mei\u001b[0;34m(x)\u001b[0m\n\u001b[1;32m      1\u001b[0m \u001b[0;32mdef\u001b[0m \u001b[0mei\u001b[0m\u001b[0;34m(\u001b[0m\u001b[0mx\u001b[0m\u001b[0;34m)\u001b[0m\u001b[0;34m:\u001b[0m\u001b[0;34m\u001b[0m\u001b[0;34m\u001b[0m\u001b[0m\n\u001b[0;32m----> 2\u001b[0;31m     \u001b[0;32mreturn\u001b[0m \u001b[0;34m-\u001b[0m\u001b[0mexp\u001b[0m\u001b[0;34m(\u001b[0m\u001b[0;34m-\u001b[0m\u001b[0mx\u001b[0m\u001b[0;34m)\u001b[0m\u001b[0;34m/\u001b[0m\u001b[0mx\u001b[0m\u001b[0;34m\u001b[0m\u001b[0;34m\u001b[0m\u001b[0m\n\u001b[0m\u001b[1;32m      3\u001b[0m \u001b[0;34m\u001b[0m\u001b[0m\n\u001b[1;32m      4\u001b[0m \u001b[0;31m#\u001b[0m\u001b[0;34m\u001b[0m\u001b[0;34m\u001b[0m\u001b[0;34m\u001b[0m\u001b[0m\n\u001b[1;32m      5\u001b[0m \u001b[0;31m#\u001b[0m\u001b[0;34m\u001b[0m\u001b[0;34m\u001b[0m\u001b[0;34m\u001b[0m\u001b[0m\n",
      "\u001b[0;31mZeroDivisionError\u001b[0m: float division by zero"
     ]
    }
   ],
   "source": [
    "import matplotlib.pyplot as plt\n",
    "\n",
    "\n",
    "a = -3\n",
    "b = 10\n",
    "\n",
    "X = list(range(100, 1000, 10))\n",
    "Y = [quad(ei, a, b)[0] for i in X]\n",
    "Y_l = [left_rect(ei, a, b, i) for i in X]\n",
    "Y_m = [mid_rect(ei, a, b, i) for i in X]\n",
    "#Y_r = [right_rect(ei, a, b, i) for i in X]\n",
    "#Y_s = [simpson2(ei, a, b, i) for i in X]\n",
    "\n",
    "\n",
    "plt.plot(X, Y, label='quad')\n",
    "#plt.plot(X, Y_r, label='right')\n",
    "#plt.plot(X, Y_m, 'p', label='mid')\n",
    "plt.plot(X, Y_m, label='mid')\n",
    "\n",
    "#for i in range(len(X)):\n",
    "#    print(X[i], Y[i])\n",
    "\n",
    "#plt.plot(X, Y_l, label='left')\n",
    "#plt.plot(X, Y_s, label='simpson2')\n",
    "plt.legend(loc=\"upper right\")\n",
    "plt.show()\n"
   ]
  },
  {
   "cell_type": "code",
   "execution_count": null,
   "metadata": {},
   "outputs": [],
   "source": [
    "ax1 = plt.subplot(212)\n",
    "ax1.margins(0.05)           # Default margin is 0.05, value 0 means fit\n",
    "ax1.plot(X, Y_m)\n",
    "\n",
    "ax2 = plt.subplot(221)\n",
    "ax2.margins(2, 2)           # Values >0.0 zoom out\n",
    "ax2.plot(X, Y_m)\n",
    "ax2.set_title('Zoomed out')\n",
    "\n",
    "ax3 = plt.subplot(222)\n",
    "ax3.margins(x=0, y=-0.25)   # Values in (-0.5, 0.0) zooms in to center\n",
    "ax3.plot(X, Y_m)\n",
    "ax3.set_title('Zoomed in')\n",
    "\n",
    "plt.show()"
   ]
  },
  {
   "cell_type": "code",
   "execution_count": null,
   "metadata": {},
   "outputs": [],
   "source": []
  }
 ],
 "metadata": {
  "kernelspec": {
   "display_name": "pythonProject",
   "language": "python",
   "name": "pythonproject"
  },
  "language_info": {
   "codemirror_mode": {
    "name": "ipython",
    "version": 3
   },
   "file_extension": ".py",
   "mimetype": "text/x-python",
   "name": "python",
   "nbconvert_exporter": "python",
   "pygments_lexer": "ipython3",
   "version": "3.8.3"
  }
 },
 "nbformat": 4,
 "nbformat_minor": 4
}
